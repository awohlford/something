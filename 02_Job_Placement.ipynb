{
  "nbformat": 4,
  "nbformat_minor": 0,
  "metadata": {
    "kernelspec": {
      "name": "python3",
      "display_name": "Python 3"
    },
    "colab": {
      "name": "02- Job Placement.ipynb",
      "provenance": []
    }
  },
  "cells": [
    {
      "cell_type": "markdown",
      "metadata": {
        "deletable": false,
        "editable": false,
        "nbgrader": {
          "checksum": "37f776e4e1c8c3965f5bc354f8a83aef",
          "grade": false,
          "grade_id": "cell-c3b11c5d81596cb7",
          "locked": true,
          "schema_version": 1,
          "solution": false
        },
        "id": "psLJi694CSWP",
        "colab_type": "text"
      },
      "source": [
        " As this is a case study individual assignment, I agree and acknowledge that all code modified in this notebook is my own. I have not and will not collaborate with anyone on this assignment. If I have questions, I will ask the instructor or TAs."
      ]
    },
    {
      "cell_type": "code",
      "metadata": {
        "deletable": false,
        "nbgrader": {
          "checksum": "029dbc0bc45912b6ed8a9d4e68876a98",
          "grade": false,
          "grade_id": "cell-7a410150ea339a11",
          "locked": false,
          "schema_version": 1,
          "solution": true
        },
        "id": "_YhwmX57CSWS",
        "colab_type": "code",
        "colab": {}
      },
      "source": [
        "# Please provide your name and agreement to the above statement as variables `name` (string) and `agree` (boolean)\n",
        "name = \"Alexander Gray Wohlford\"\n",
        "agree = True"
      ],
      "execution_count": 0,
      "outputs": []
    },
    {
      "cell_type": "code",
      "metadata": {
        "deletable": false,
        "editable": false,
        "nbgrader": {
          "checksum": "af5055b179decaf7c280171f297f036c",
          "grade": true,
          "grade_id": "cell-be8f2fd5450b57d8",
          "locked": true,
          "points": 0,
          "schema_version": 1,
          "solution": false
        },
        "id": "51C-ZiZWCSWY",
        "colab_type": "code",
        "colab": {}
      },
      "source": [
        "conditions = [isinstance(name, str), isinstance(agree, bool), agree]\n",
        "for condition in conditions:\n",
        "    if not condition:\n",
        "        raise ValueError(\"Student has not agreed to work on this assignment alone and without collaboration or has not provided their name\")"
      ],
      "execution_count": 0,
      "outputs": []
    },
    {
      "cell_type": "markdown",
      "metadata": {
        "deletable": false,
        "editable": false,
        "nbgrader": {
          "checksum": "b5e720c601965ffd4a490c9ae8f89b32",
          "grade": false,
          "grade_id": "cell-c95444a9726cb6ad",
          "locked": true,
          "schema_version": 1,
          "solution": false
        },
        "id": "uR5Q0ldiCSWd",
        "colab_type": "text"
      },
      "source": [
        "# Job Performance Prediction\n",
        "\n",
        "You work for a software startup, Predict All The Things Inc. (PALT), and are approached by the CEO to build an algorithm that can help sift through resumes. PALT just closed a $3 million Series A round of funding and the CEO just landed a deal with a national retailer, SellsALOT, to help them with hiring Sales Associates.\n",
        "\n",
        "They are able to obtain data on all the employees that work as Sales Associates throughout their stores as well as customer satisfaction and sales performance scores.\n",
        "\n",
        "In this case study, you are tasked to build a model to predict job performance to assist HR in selecting applicants to interview.\n",
        "\n",
        "The data was provided to you by the new HR intern, Keegan. This is the email you got from Keegan with the attached data.\n",
        "\n",
        ">Hi!\n",
        ">\n",
        ">I hope you're doing well. I've attached the data we have about all employees. Please ensure this data stays confidential and is not shared with anyone who has not signed the NDA. The columns have all the information we have about our employees and the scoring rating that they've received from our performance monitors. We also have some employees that were fired and I have included those as well.\n",
        ">\n",
        ">I was also able to dig up some more information about our employees that I found on the internet. It took a lot of time but I hope it helps in making the model even better. Can't wait to see this thing in action. Everyone here is very excited about our collaboration with you and we look forward to this making hiring a lot easier for us.\n",
        ">\n",
        ">Thanks,\n",
        ">\n",
        ">Keegan Thiel\n",
        ">\n",
        ">HR Intern\n",
        ">\n",
        ">Human Resources\n",
        ">\n",
        ">SellsALOT\n",
        "\n",
        "\n",
        "Data is available in the `employees.csv` file provided. \n",
        "\n",
        "\n",
        "SellsALOT is an Equal Opportunity Employer which is an employer who agrees not to discriminate against any employee or job applicant because of race, color, religion, national origin, sex, physical or mental disability, or age.\n"
      ]
    },
    {
      "cell_type": "markdown",
      "metadata": {
        "deletable": false,
        "editable": false,
        "nbgrader": {
          "checksum": "afc34f9048ee4213877d45250fd61050",
          "grade": false,
          "grade_id": "cell-f9469a23a33f582b",
          "locked": true,
          "schema_version": 1,
          "solution": false
        },
        "id": "pI4DJCRmCSWf",
        "colab_type": "text"
      },
      "source": [
        "## Data Cleaning\n",
        "\n",
        "First, let's investigate the data that we received from Keegan.\n",
        "\n"
      ]
    },
    {
      "cell_type": "code",
      "metadata": {
        "deletable": false,
        "editable": false,
        "nbgrader": {
          "checksum": "98d9733673fc16e64c8a56f4f2283337",
          "grade": false,
          "grade_id": "cell-415e7e827876c782",
          "locked": true,
          "schema_version": 1,
          "solution": false
        },
        "id": "qqhDpKwMCSWg",
        "colab_type": "code",
        "colab": {}
      },
      "source": [
        "import pandas as pd\n",
        "import matplotlib\n",
        "import numpy as np\n",
        "import sklearn as sk\n",
        "from sklearn.model_selection import train_test_split\n",
        "import datetime\n",
        "from datetime import date"
      ],
      "execution_count": 0,
      "outputs": []
    },
    {
      "cell_type": "code",
      "metadata": {
        "deletable": false,
        "editable": false,
        "nbgrader": {
          "checksum": "3216fece87fdd26ddb8122784c9ad01e",
          "grade": false,
          "grade_id": "cell-0fb592011f635976",
          "locked": true,
          "schema_version": 1,
          "solution": false
        },
        "id": "duyoyfWFCSWl",
        "colab_type": "code",
        "outputId": "3cdd2bf1-9c8d-425d-ce8f-d13a6a235e8b",
        "colab": {
          "base_uri": "https://localhost:8080/",
          "height": 508
        }
      },
      "source": [
        "from google.colab import drive \n",
        "drive.mount('/content/gdrive')\n",
        "df = pd.read_csv(\"gdrive/My Drive/employees.csv\")"
      ],
      "execution_count": 2,
      "outputs": [
        {
          "output_type": "stream",
          "text": [
            "Go to this URL in a browser: https://accounts.google.com/o/oauth2/auth?client_id=947318989803-6bn6qk8qdgf4n4g3pfee6491hc0brc4i.apps.googleusercontent.com&redirect_uri=urn%3Aietf%3Awg%3Aoauth%3A2.0%3Aoob&scope=email%20https%3A%2F%2Fwww.googleapis.com%2Fauth%2Fdocs.test%20https%3A%2F%2Fwww.googleapis.com%2Fauth%2Fdrive%20https%3A%2F%2Fwww.googleapis.com%2Fauth%2Fdrive.photos.readonly%20https%3A%2F%2Fwww.googleapis.com%2Fauth%2Fpeopleapi.readonly&response_type=code\n",
            "\n",
            "Enter your authorization code:\n",
            "··········\n",
            "Mounted at /content/gdrive\n"
          ],
          "name": "stdout"
        },
        {
          "output_type": "error",
          "ename": "FileNotFoundError",
          "evalue": "ignored",
          "traceback": [
            "\u001b[0;31m---------------------------------------------------------------------------\u001b[0m",
            "\u001b[0;31mFileNotFoundError\u001b[0m                         Traceback (most recent call last)",
            "\u001b[0;32m<ipython-input-2-a15319e83a45>\u001b[0m in \u001b[0;36m<module>\u001b[0;34m()\u001b[0m\n\u001b[1;32m      1\u001b[0m \u001b[0;32mfrom\u001b[0m \u001b[0mgoogle\u001b[0m\u001b[0;34m.\u001b[0m\u001b[0mcolab\u001b[0m \u001b[0;32mimport\u001b[0m \u001b[0mdrive\u001b[0m\u001b[0;34m\u001b[0m\u001b[0;34m\u001b[0m\u001b[0m\n\u001b[1;32m      2\u001b[0m \u001b[0mdrive\u001b[0m\u001b[0;34m.\u001b[0m\u001b[0mmount\u001b[0m\u001b[0;34m(\u001b[0m\u001b[0;34m'/content/gdrive'\u001b[0m\u001b[0;34m)\u001b[0m\u001b[0;34m\u001b[0m\u001b[0;34m\u001b[0m\u001b[0m\n\u001b[0;32m----> 3\u001b[0;31m \u001b[0mdf\u001b[0m \u001b[0;34m=\u001b[0m \u001b[0mpd\u001b[0m\u001b[0;34m.\u001b[0m\u001b[0mread_csv\u001b[0m\u001b[0;34m(\u001b[0m\u001b[0;34m\"gdrive/My Drive/employees.csv\"\u001b[0m\u001b[0;34m)\u001b[0m\u001b[0;34m\u001b[0m\u001b[0;34m\u001b[0m\u001b[0m\n\u001b[0m",
            "\u001b[0;32m/usr/local/lib/python3.6/dist-packages/pandas/io/parsers.py\u001b[0m in \u001b[0;36mparser_f\u001b[0;34m(filepath_or_buffer, sep, delimiter, header, names, index_col, usecols, squeeze, prefix, mangle_dupe_cols, dtype, engine, converters, true_values, false_values, skipinitialspace, skiprows, skipfooter, nrows, na_values, keep_default_na, na_filter, verbose, skip_blank_lines, parse_dates, infer_datetime_format, keep_date_col, date_parser, dayfirst, iterator, chunksize, compression, thousands, decimal, lineterminator, quotechar, quoting, doublequote, escapechar, comment, encoding, dialect, tupleize_cols, error_bad_lines, warn_bad_lines, delim_whitespace, low_memory, memory_map, float_precision)\u001b[0m\n\u001b[1;32m    700\u001b[0m                     skip_blank_lines=skip_blank_lines)\n\u001b[1;32m    701\u001b[0m \u001b[0;34m\u001b[0m\u001b[0m\n\u001b[0;32m--> 702\u001b[0;31m         \u001b[0;32mreturn\u001b[0m \u001b[0m_read\u001b[0m\u001b[0;34m(\u001b[0m\u001b[0mfilepath_or_buffer\u001b[0m\u001b[0;34m,\u001b[0m \u001b[0mkwds\u001b[0m\u001b[0;34m)\u001b[0m\u001b[0;34m\u001b[0m\u001b[0;34m\u001b[0m\u001b[0m\n\u001b[0m\u001b[1;32m    703\u001b[0m \u001b[0;34m\u001b[0m\u001b[0m\n\u001b[1;32m    704\u001b[0m     \u001b[0mparser_f\u001b[0m\u001b[0;34m.\u001b[0m\u001b[0m__name__\u001b[0m \u001b[0;34m=\u001b[0m \u001b[0mname\u001b[0m\u001b[0;34m\u001b[0m\u001b[0;34m\u001b[0m\u001b[0m\n",
            "\u001b[0;32m/usr/local/lib/python3.6/dist-packages/pandas/io/parsers.py\u001b[0m in \u001b[0;36m_read\u001b[0;34m(filepath_or_buffer, kwds)\u001b[0m\n\u001b[1;32m    427\u001b[0m \u001b[0;34m\u001b[0m\u001b[0m\n\u001b[1;32m    428\u001b[0m     \u001b[0;31m# Create the parser.\u001b[0m\u001b[0;34m\u001b[0m\u001b[0;34m\u001b[0m\u001b[0;34m\u001b[0m\u001b[0m\n\u001b[0;32m--> 429\u001b[0;31m     \u001b[0mparser\u001b[0m \u001b[0;34m=\u001b[0m \u001b[0mTextFileReader\u001b[0m\u001b[0;34m(\u001b[0m\u001b[0mfilepath_or_buffer\u001b[0m\u001b[0;34m,\u001b[0m \u001b[0;34m**\u001b[0m\u001b[0mkwds\u001b[0m\u001b[0;34m)\u001b[0m\u001b[0;34m\u001b[0m\u001b[0;34m\u001b[0m\u001b[0m\n\u001b[0m\u001b[1;32m    430\u001b[0m \u001b[0;34m\u001b[0m\u001b[0m\n\u001b[1;32m    431\u001b[0m     \u001b[0;32mif\u001b[0m \u001b[0mchunksize\u001b[0m \u001b[0;32mor\u001b[0m \u001b[0miterator\u001b[0m\u001b[0;34m:\u001b[0m\u001b[0;34m\u001b[0m\u001b[0;34m\u001b[0m\u001b[0m\n",
            "\u001b[0;32m/usr/local/lib/python3.6/dist-packages/pandas/io/parsers.py\u001b[0m in \u001b[0;36m__init__\u001b[0;34m(self, f, engine, **kwds)\u001b[0m\n\u001b[1;32m    893\u001b[0m             \u001b[0mself\u001b[0m\u001b[0;34m.\u001b[0m\u001b[0moptions\u001b[0m\u001b[0;34m[\u001b[0m\u001b[0;34m'has_index_names'\u001b[0m\u001b[0;34m]\u001b[0m \u001b[0;34m=\u001b[0m \u001b[0mkwds\u001b[0m\u001b[0;34m[\u001b[0m\u001b[0;34m'has_index_names'\u001b[0m\u001b[0;34m]\u001b[0m\u001b[0;34m\u001b[0m\u001b[0;34m\u001b[0m\u001b[0m\n\u001b[1;32m    894\u001b[0m \u001b[0;34m\u001b[0m\u001b[0m\n\u001b[0;32m--> 895\u001b[0;31m         \u001b[0mself\u001b[0m\u001b[0;34m.\u001b[0m\u001b[0m_make_engine\u001b[0m\u001b[0;34m(\u001b[0m\u001b[0mself\u001b[0m\u001b[0;34m.\u001b[0m\u001b[0mengine\u001b[0m\u001b[0;34m)\u001b[0m\u001b[0;34m\u001b[0m\u001b[0;34m\u001b[0m\u001b[0m\n\u001b[0m\u001b[1;32m    896\u001b[0m \u001b[0;34m\u001b[0m\u001b[0m\n\u001b[1;32m    897\u001b[0m     \u001b[0;32mdef\u001b[0m \u001b[0mclose\u001b[0m\u001b[0;34m(\u001b[0m\u001b[0mself\u001b[0m\u001b[0;34m)\u001b[0m\u001b[0;34m:\u001b[0m\u001b[0;34m\u001b[0m\u001b[0;34m\u001b[0m\u001b[0m\n",
            "\u001b[0;32m/usr/local/lib/python3.6/dist-packages/pandas/io/parsers.py\u001b[0m in \u001b[0;36m_make_engine\u001b[0;34m(self, engine)\u001b[0m\n\u001b[1;32m   1120\u001b[0m     \u001b[0;32mdef\u001b[0m \u001b[0m_make_engine\u001b[0m\u001b[0;34m(\u001b[0m\u001b[0mself\u001b[0m\u001b[0;34m,\u001b[0m \u001b[0mengine\u001b[0m\u001b[0;34m=\u001b[0m\u001b[0;34m'c'\u001b[0m\u001b[0;34m)\u001b[0m\u001b[0;34m:\u001b[0m\u001b[0;34m\u001b[0m\u001b[0;34m\u001b[0m\u001b[0m\n\u001b[1;32m   1121\u001b[0m         \u001b[0;32mif\u001b[0m \u001b[0mengine\u001b[0m \u001b[0;34m==\u001b[0m \u001b[0;34m'c'\u001b[0m\u001b[0;34m:\u001b[0m\u001b[0;34m\u001b[0m\u001b[0;34m\u001b[0m\u001b[0m\n\u001b[0;32m-> 1122\u001b[0;31m             \u001b[0mself\u001b[0m\u001b[0;34m.\u001b[0m\u001b[0m_engine\u001b[0m \u001b[0;34m=\u001b[0m \u001b[0mCParserWrapper\u001b[0m\u001b[0;34m(\u001b[0m\u001b[0mself\u001b[0m\u001b[0;34m.\u001b[0m\u001b[0mf\u001b[0m\u001b[0;34m,\u001b[0m \u001b[0;34m**\u001b[0m\u001b[0mself\u001b[0m\u001b[0;34m.\u001b[0m\u001b[0moptions\u001b[0m\u001b[0;34m)\u001b[0m\u001b[0;34m\u001b[0m\u001b[0;34m\u001b[0m\u001b[0m\n\u001b[0m\u001b[1;32m   1123\u001b[0m         \u001b[0;32melse\u001b[0m\u001b[0;34m:\u001b[0m\u001b[0;34m\u001b[0m\u001b[0;34m\u001b[0m\u001b[0m\n\u001b[1;32m   1124\u001b[0m             \u001b[0;32mif\u001b[0m \u001b[0mengine\u001b[0m \u001b[0;34m==\u001b[0m \u001b[0;34m'python'\u001b[0m\u001b[0;34m:\u001b[0m\u001b[0;34m\u001b[0m\u001b[0;34m\u001b[0m\u001b[0m\n",
            "\u001b[0;32m/usr/local/lib/python3.6/dist-packages/pandas/io/parsers.py\u001b[0m in \u001b[0;36m__init__\u001b[0;34m(self, src, **kwds)\u001b[0m\n\u001b[1;32m   1851\u001b[0m         \u001b[0mkwds\u001b[0m\u001b[0;34m[\u001b[0m\u001b[0;34m'usecols'\u001b[0m\u001b[0;34m]\u001b[0m \u001b[0;34m=\u001b[0m \u001b[0mself\u001b[0m\u001b[0;34m.\u001b[0m\u001b[0musecols\u001b[0m\u001b[0;34m\u001b[0m\u001b[0;34m\u001b[0m\u001b[0m\n\u001b[1;32m   1852\u001b[0m \u001b[0;34m\u001b[0m\u001b[0m\n\u001b[0;32m-> 1853\u001b[0;31m         \u001b[0mself\u001b[0m\u001b[0;34m.\u001b[0m\u001b[0m_reader\u001b[0m \u001b[0;34m=\u001b[0m \u001b[0mparsers\u001b[0m\u001b[0;34m.\u001b[0m\u001b[0mTextReader\u001b[0m\u001b[0;34m(\u001b[0m\u001b[0msrc\u001b[0m\u001b[0;34m,\u001b[0m \u001b[0;34m**\u001b[0m\u001b[0mkwds\u001b[0m\u001b[0;34m)\u001b[0m\u001b[0;34m\u001b[0m\u001b[0;34m\u001b[0m\u001b[0m\n\u001b[0m\u001b[1;32m   1854\u001b[0m         \u001b[0mself\u001b[0m\u001b[0;34m.\u001b[0m\u001b[0munnamed_cols\u001b[0m \u001b[0;34m=\u001b[0m \u001b[0mself\u001b[0m\u001b[0;34m.\u001b[0m\u001b[0m_reader\u001b[0m\u001b[0;34m.\u001b[0m\u001b[0munnamed_cols\u001b[0m\u001b[0;34m\u001b[0m\u001b[0;34m\u001b[0m\u001b[0m\n\u001b[1;32m   1855\u001b[0m \u001b[0;34m\u001b[0m\u001b[0m\n",
            "\u001b[0;32mpandas/_libs/parsers.pyx\u001b[0m in \u001b[0;36mpandas._libs.parsers.TextReader.__cinit__\u001b[0;34m()\u001b[0m\n",
            "\u001b[0;32mpandas/_libs/parsers.pyx\u001b[0m in \u001b[0;36mpandas._libs.parsers.TextReader._setup_parser_source\u001b[0;34m()\u001b[0m\n",
            "\u001b[0;31mFileNotFoundError\u001b[0m: [Errno 2] File b'gdrive/My Drive/employees.csv' does not exist: b'gdrive/My Drive/employees.csv'"
          ]
        }
      ]
    },
    {
      "cell_type": "code",
      "metadata": {
        "deletable": false,
        "editable": false,
        "nbgrader": {
          "checksum": "4d084b93f762407ef1ce1017190e83fd",
          "grade": false,
          "grade_id": "cell-60d13b4672b4b0ab",
          "locked": true,
          "schema_version": 1,
          "solution": false
        },
        "id": "AgvKvcDOCSWr",
        "colab_type": "code",
        "outputId": "45bc0f52-339e-431f-fd39-fddbf38fcbf9",
        "colab": {
          "base_uri": "https://localhost:8080/",
          "height": 163
        }
      },
      "source": [
        "df.head()"
      ],
      "execution_count": 0,
      "outputs": [
        {
          "output_type": "error",
          "ename": "NameError",
          "evalue": "ignored",
          "traceback": [
            "\u001b[0;31m---------------------------------------------------------------------------\u001b[0m",
            "\u001b[0;31mNameError\u001b[0m                                 Traceback (most recent call last)",
            "\u001b[0;32m<ipython-input-24-c42a15b2c7cf>\u001b[0m in \u001b[0;36m<module>\u001b[0;34m()\u001b[0m\n\u001b[0;32m----> 1\u001b[0;31m \u001b[0mdf\u001b[0m\u001b[0;34m.\u001b[0m\u001b[0mhead\u001b[0m\u001b[0;34m(\u001b[0m\u001b[0;34m)\u001b[0m\u001b[0;34m\u001b[0m\u001b[0;34m\u001b[0m\u001b[0m\n\u001b[0m",
            "\u001b[0;31mNameError\u001b[0m: name 'df' is not defined"
          ]
        }
      ]
    },
    {
      "cell_type": "code",
      "metadata": {
        "deletable": false,
        "editable": false,
        "nbgrader": {
          "checksum": "b5485d5af838398f9041b721a32d3f6e",
          "grade": false,
          "grade_id": "cell-bf0b10e305c37259",
          "locked": true,
          "schema_version": 1,
          "solution": false
        },
        "id": "KpcYd6aqCSWw",
        "colab_type": "code",
        "colab": {}
      },
      "source": [
        "df.describe(include=\"all\")"
      ],
      "execution_count": 0,
      "outputs": []
    },
    {
      "cell_type": "code",
      "metadata": {
        "deletable": false,
        "editable": false,
        "nbgrader": {
          "checksum": "f0afcc4b56553ed231f2820e4c556b75",
          "grade": false,
          "grade_id": "cell-c82a0bc350265b0e",
          "locked": true,
          "schema_version": 1,
          "solution": false
        },
        "id": "Dlqn3OzaCSWz",
        "colab_type": "code",
        "colab": {}
      },
      "source": [
        "print(\"The columns of data are:\")\n",
        "list(df.columns)"
      ],
      "execution_count": 0,
      "outputs": []
    },
    {
      "cell_type": "markdown",
      "metadata": {
        "deletable": false,
        "editable": false,
        "nbgrader": {
          "checksum": "9c7bcfd15862ed179ed9bcac94715dd7",
          "grade": false,
          "grade_id": "cell-e51f79d4bbd14476",
          "locked": true,
          "schema_version": 1,
          "solution": false
        },
        "id": "JBByvZhYCSW3",
        "colab_type": "text"
      },
      "source": [
        "Based on the data above we need to do the following:\n",
        "\n",
        "1. Split Myers Briggs into subtypes\n",
        "1. Convert categorical columns to dummy variables\n",
        "1. Calculate Age based on date of birth"
      ]
    },
    {
      "cell_type": "markdown",
      "metadata": {
        "deletable": false,
        "editable": false,
        "nbgrader": {
          "checksum": "ebe3dd221afb3a5af0743d2d674101d9",
          "grade": false,
          "grade_id": "cell-759ebf896978ca5d",
          "locked": true,
          "schema_version": 1,
          "solution": false
        },
        "id": "sHRSDJjZCSW4",
        "colab_type": "text"
      },
      "source": [
        "The [Myers Briggs Type Indicator](https://en.wikipedia.org/wiki/Myers%E2%80%93Briggs_Type_Indicator) (MBTI) descibes people as one of two types for each of:\n",
        "\n",
        "* extraversion (E) or introversion (I)\n",
        "* sensing (S) or intuition (N)\n",
        "* thinking (T) or feeling (F)\n",
        "* judgment (J) or perception (P)\n",
        "\n",
        "It would make more sense for us to represent people as one or the other of these instead of creating all the possible cases. That way a model can learn based on each of those factors as well as their combination. \n",
        "\n",
        "Your next task is to split the MBTI column into four columns in the dataframe:\n",
        "\n",
        "* MBTI_EI with value `E` or `I`\n",
        "* MBTI_SN with value `S` or `N`\n",
        "* MBTI_TF with value `T` or `F`\n",
        "* MBTI_JP with value `J` or `P`\n",
        "\n",
        "That correspond to the same row's Myers Briggs Type."
      ]
    },
    {
      "cell_type": "code",
      "metadata": {
        "deletable": false,
        "nbgrader": {
          "checksum": "684f43b481383ae1fa1488100efe524b",
          "grade": false,
          "grade_id": "cell-b96d43f098c26707",
          "locked": false,
          "schema_version": 1,
          "solution": true
        },
        "id": "uWGz_LxoCSW6",
        "colab_type": "code",
        "colab": {}
      },
      "source": [
        "# YOUR CODE HERE\n",
        "raise NotImplementedError()"
      ],
      "execution_count": 0,
      "outputs": []
    },
    {
      "cell_type": "code",
      "metadata": {
        "deletable": false,
        "editable": false,
        "nbgrader": {
          "checksum": "a94862251cdb730f863c4c4565ee744e",
          "grade": true,
          "grade_id": "cell-1b5cf11c2512def1",
          "locked": true,
          "points": 10,
          "schema_version": 1,
          "solution": false
        },
        "id": "giTwYLi-CSW9",
        "colab_type": "code",
        "colab": {}
      },
      "source": [
        "assert len(set(df[\"MBTI_EI\"])) == 2\n",
        "assert \"E\" in set(df[\"MBTI_EI\"]) and \"I\" in set(df[\"MBTI_EI\"])\n",
        "assert len(set(df[\"MBTI_SN\"])) == 2\n",
        "assert \"S\" in set(df[\"MBTI_SN\"]) and \"N\" in set(df[\"MBTI_SN\"])\n",
        "assert len(set(df[\"MBTI_TF\"])) == 2\n",
        "assert \"T\" in set(df[\"MBTI_TF\"]) and \"F\" in set(df[\"MBTI_TF\"])\n",
        "assert len(set(df[\"MBTI_JP\"])) == 2\n",
        "assert \"J\" in set(df[\"MBTI_JP\"]) and \"P\" in set(df[\"MBTI_JP\"])"
      ],
      "execution_count": 0,
      "outputs": []
    },
    {
      "cell_type": "markdown",
      "metadata": {
        "deletable": false,
        "editable": false,
        "nbgrader": {
          "checksum": "3577313ae433ce752fa56e6ac7a01b96",
          "grade": false,
          "grade_id": "cell-51a7104ebad2aa72",
          "locked": true,
          "schema_version": 1,
          "solution": false
        },
        "id": "XAuXOjdlCSXB",
        "colab_type": "text"
      },
      "source": [
        "1. ~~Split Myers Briggs into subtypes~~\n",
        "1. Convert categorical columns to dummy variables\n",
        "1. Calculate Age based on date of birth"
      ]
    },
    {
      "cell_type": "markdown",
      "metadata": {
        "deletable": false,
        "editable": false,
        "nbgrader": {
          "checksum": "bed782daa0aaa43f260ea87cb25483a0",
          "grade": false,
          "grade_id": "cell-364e01542d424264",
          "locked": true,
          "schema_version": 1,
          "solution": false
        },
        "id": "vuEsnbAKCSXC",
        "colab_type": "text"
      },
      "source": [
        "Dumy variables are variables that allow us to convert a category into several binary variables. For example, if we had a color value that we were storing and we knew it could only have the values `red`, `green`, and `blue`, then instead of storing the color as those strings, we can store three binary variables: `is_red`, `is_green`, and `is_blue`. \n",
        "\n",
        "We can do this in pandas easily by using [`get_dummies`](https://pandas.pydata.org/pandas-docs/stable/generated/pandas.get_dummies.html)."
      ]
    },
    {
      "cell_type": "code",
      "metadata": {
        "deletable": false,
        "nbgrader": {
          "checksum": "063af68aa6b85d9a02708f53ebc5109a",
          "grade": false,
          "grade_id": "cell-32271c292a515ef3",
          "locked": false,
          "schema_version": 1,
          "solution": true
        },
        "id": "INqo7X_6CSXD",
        "colab_type": "code",
        "colab": {}
      },
      "source": [
        "# Determine all the categorical columns and save them to categorical_columns\n",
        "# Note that this does not include the binary features\n",
        "\n",
        "# YOUR CODE HERE\n",
        "raise NotImplementedError()"
      ],
      "execution_count": 0,
      "outputs": []
    },
    {
      "cell_type": "code",
      "metadata": {
        "deletable": false,
        "editable": false,
        "nbgrader": {
          "checksum": "18a0f09a797269b018ae2cf0f3e85960",
          "grade": true,
          "grade_id": "cell-528eea88864f2926",
          "locked": true,
          "points": 10,
          "schema_version": 1,
          "solution": false
        },
        "id": "EyTAS4LlCSXH",
        "colab_type": "code",
        "colab": {}
      },
      "source": [
        "assert len(categorical_columns) > 8\n",
        "for category in categorical_columns:\n",
        "    assert category in df.columns"
      ],
      "execution_count": 0,
      "outputs": []
    },
    {
      "cell_type": "code",
      "metadata": {
        "deletable": false,
        "nbgrader": {
          "checksum": "69961777da44b2bd9fc3cd9ebf08b8c4",
          "grade": false,
          "grade_id": "cell-ad307669e4346527",
          "locked": false,
          "schema_version": 1,
          "solution": true
        },
        "id": "UEuaWN_nCSXK",
        "colab_type": "code",
        "colab": {}
      },
      "source": [
        "# For every column in the categorical features\n",
        "# Calculate the dummy variables and add them to the dataframe\n",
        "\n",
        "# YOUR CODE HERE\n",
        "raise NotImplementedError()"
      ],
      "execution_count": 0,
      "outputs": []
    },
    {
      "cell_type": "code",
      "metadata": {
        "deletable": false,
        "editable": false,
        "nbgrader": {
          "checksum": "20a089162c8e028bada006b2ac24c34c",
          "grade": false,
          "grade_id": "cell-d477e9bead9db0a6",
          "locked": true,
          "schema_version": 1,
          "solution": false
        },
        "id": "IoTz1KupCSXO",
        "colab_type": "code",
        "colab": {}
      },
      "source": [
        "assert len(list(df.columns)) > 45"
      ],
      "execution_count": 0,
      "outputs": []
    },
    {
      "cell_type": "code",
      "metadata": {
        "deletable": false,
        "editable": false,
        "nbgrader": {
          "checksum": "f24fb58ec9e0feb12116a391b973879f",
          "grade": false,
          "grade_id": "cell-4b43f9bb988091cf",
          "locked": true,
          "schema_version": 1,
          "solution": false
        },
        "id": "OdDb_8a_CSXS",
        "colab_type": "code",
        "colab": {}
      },
      "source": [
        "print(\"The current columns are:\")\n",
        "list(df.columns)"
      ],
      "execution_count": 0,
      "outputs": []
    },
    {
      "cell_type": "code",
      "metadata": {
        "deletable": false,
        "nbgrader": {
          "checksum": "6db99454a146fe855b21a4f20227e750",
          "grade": false,
          "grade_id": "cell-10890eae4243cb8d",
          "locked": false,
          "schema_version": 1,
          "solution": true
        },
        "id": "eN1umIcECSXW",
        "colab_type": "code",
        "colab": {}
      },
      "source": [
        "# Now let's drop all the categorical features columns from the dataframe\n",
        "# So that we don't have duplicate information stored\n",
        "# YOUR CODE HERE\n",
        "raise NotImplementedError()"
      ],
      "execution_count": 0,
      "outputs": []
    },
    {
      "cell_type": "code",
      "metadata": {
        "deletable": false,
        "editable": false,
        "nbgrader": {
          "checksum": "10113a2235b4d47c0b3e356e72bbacfa",
          "grade": false,
          "grade_id": "cell-c0598d253d832ddd",
          "locked": true,
          "schema_version": 1,
          "solution": false
        },
        "id": "kRccxeqYCSXa",
        "colab_type": "code",
        "colab": {}
      },
      "source": [
        "print(\"The current columns are:\")\n",
        "list(df.columns)"
      ],
      "execution_count": 0,
      "outputs": []
    },
    {
      "cell_type": "code",
      "metadata": {
        "deletable": false,
        "editable": false,
        "nbgrader": {
          "checksum": "7b24f92768f16089c612b609ca5ba254",
          "grade": true,
          "grade_id": "cell-a6172310793c3289",
          "locked": true,
          "points": 10,
          "schema_version": 1,
          "solution": false
        },
        "id": "MAUMpAksCSXd",
        "colab_type": "code",
        "colab": {}
      },
      "source": [
        "assert 45 > len(list(df.columns)) > 30"
      ],
      "execution_count": 0,
      "outputs": []
    },
    {
      "cell_type": "markdown",
      "metadata": {
        "deletable": false,
        "editable": false,
        "nbgrader": {
          "checksum": "2177a2cddf2c04f3eb1aa852b4f45181",
          "grade": false,
          "grade_id": "cell-48ebecdc645e8f6a",
          "locked": true,
          "schema_version": 1,
          "solution": false
        },
        "id": "HTEqZnBHCSXj",
        "colab_type": "text"
      },
      "source": [
        "1. ~~Split Myers Briggs into subtypes~~\n",
        "1. ~~Convert categorical columns to dummy variables~~\n",
        "1. Calculate Age based on date of birth"
      ]
    },
    {
      "cell_type": "code",
      "metadata": {
        "deletable": false,
        "editable": false,
        "nbgrader": {
          "checksum": "d6293f4b96239c9b3e12e25c419de75f",
          "grade": false,
          "grade_id": "cell-028aecaf0638bb7a",
          "locked": true,
          "schema_version": 1,
          "solution": false
        },
        "id": "AsqS7SySCSXl",
        "colab_type": "code",
        "colab": {}
      },
      "source": [
        "def calculate_age(born):\n",
        "    \"\"\"Calculates age based on date of birth using https://stackoverflow.com/a/9754466/818687\n",
        "\n",
        "    Args:\n",
        "        born (datetime): The date of birth\n",
        "\n",
        "    Returns:\n",
        "        int: The age based on date of birth\n",
        "    \"\"\"\n",
        "    # We will use this date as \"today\" to make sure we get consistent results.\n",
        "    today = datetime.datetime.strptime(\"2019-10-20\", \"%Y-%m-%d\") \n",
        "    # today = date.today() # This is what you'd normally do\n",
        "    return today.year - born.year - ((today.month, today.day) < (born.month, born.day))"
      ],
      "execution_count": 0,
      "outputs": []
    },
    {
      "cell_type": "code",
      "metadata": {
        "deletable": false,
        "nbgrader": {
          "checksum": "5b3728527c3a00344ee43f3f18d5edd1",
          "grade": false,
          "grade_id": "cell-315ed06d1f0428b4",
          "locked": false,
          "schema_version": 1,
          "solution": true
        },
        "id": "ADguLVYECSXs",
        "colab_type": "code",
        "colab": {}
      },
      "source": [
        "# Add an \"Age\" column to the dataframe that calculates people's ages based on their date of birth\n",
        "# YOUR CODE HERE\n",
        "raise NotImplementedError()"
      ],
      "execution_count": 0,
      "outputs": []
    },
    {
      "cell_type": "code",
      "metadata": {
        "deletable": false,
        "editable": false,
        "nbgrader": {
          "checksum": "00d89dce4a5d9a9c8efff443ce81fab0",
          "grade": true,
          "grade_id": "cell-abfc46abea98fba7",
          "locked": true,
          "points": 20,
          "schema_version": 1,
          "solution": false
        },
        "id": "GmlmKgQ2CSXx",
        "colab_type": "code",
        "colab": {}
      },
      "source": [
        "assert df[\"Age\"].min() == 20\n",
        "assert df[\"Age\"].max() == 36\n",
        "assert df[\"Age\"].median() == 29"
      ],
      "execution_count": 0,
      "outputs": []
    },
    {
      "cell_type": "markdown",
      "metadata": {
        "deletable": false,
        "editable": false,
        "nbgrader": {
          "checksum": "793e92cb72a271eb8c9842908586e35e",
          "grade": false,
          "grade_id": "cell-ea0c08afcc388389",
          "locked": true,
          "schema_version": 1,
          "solution": false
        },
        "id": "paz-9hFjCSX1",
        "colab_type": "text"
      },
      "source": [
        "## Modelling\n",
        "\n",
        "Based on your understanding of the data, select the features that you want to use to predict:\n",
        "\n",
        "1. Customer Satisfaction\n",
        "1. Sales Performance\n",
        "1. Fired"
      ]
    },
    {
      "cell_type": "code",
      "metadata": {
        "deletable": false,
        "nbgrader": {
          "checksum": "c3a21b18097115dacd3054d20435d423",
          "grade": false,
          "grade_id": "cell-449eb7f2253cca83",
          "locked": false,
          "schema_version": 1,
          "solution": true
        },
        "id": "do93wVEFCSX2",
        "colab_type": "code",
        "colab": {}
      },
      "source": [
        "# Save the columns we are trying to predict to targets\n",
        "# Make sure that if we had a categorical column, that you use the dummy representation(s)\n",
        "# YOUR CODE HERE\n",
        "raise NotImplementedError()"
      ],
      "execution_count": 0,
      "outputs": []
    },
    {
      "cell_type": "code",
      "metadata": {
        "deletable": false,
        "editable": false,
        "nbgrader": {
          "checksum": "d5081927389e999a34fec741f4e5b416",
          "grade": true,
          "grade_id": "cell-458aa3767005cc6d",
          "locked": true,
          "points": 20,
          "schema_version": 1,
          "solution": false
        },
        "id": "Gg8cY7DyCSX7",
        "colab_type": "code",
        "colab": {}
      },
      "source": [
        "assert len(targets) == 3\n",
        "for target in targets:\n",
        "    assert target in df.columns"
      ],
      "execution_count": 0,
      "outputs": []
    },
    {
      "cell_type": "markdown",
      "metadata": {
        "deletable": false,
        "editable": false,
        "nbgrader": {
          "checksum": "65973f6f7c1774837c7db8b4d4fc2222",
          "grade": false,
          "grade_id": "cell-001c7adb39caf635",
          "locked": true,
          "schema_version": 1,
          "solution": false
        },
        "id": "kvlV-zRfCSX_",
        "colab_type": "text"
      },
      "source": [
        "Your prediction will be used to rank applicants for interviews with HR. **Which features will you select to use in your model?**"
      ]
    },
    {
      "cell_type": "code",
      "metadata": {
        "deletable": false,
        "editable": false,
        "nbgrader": {
          "checksum": "2ca1e6e7f83ad4da5a3185188c638880",
          "grade": false,
          "grade_id": "cell-e436c6aea590b5c0",
          "locked": true,
          "schema_version": 1,
          "solution": false
        },
        "id": "dLVHpQhUCSYB",
        "colab_type": "code",
        "colab": {}
      },
      "source": [
        "print(\"The available columns are:\")\n",
        "list(df)"
      ],
      "execution_count": 0,
      "outputs": []
    },
    {
      "cell_type": "code",
      "metadata": {
        "deletable": false,
        "nbgrader": {
          "checksum": "c88e3aa7b5ddf2ca191dfb88b5408d24",
          "grade": false,
          "grade_id": "cell-bd2399d20615cbd1",
          "locked": false,
          "schema_version": 1,
          "solution": true
        },
        "id": "uTPQRYdJCSYF",
        "colab_type": "code",
        "colab": {}
      },
      "source": [
        "# Enter all the features you want to use in a list and save it to rank_features\n",
        "# These are the features for the model that will rank applicants for interviews\n",
        "# YOUR CODE HERE\n",
        "raise NotImplementedError()"
      ],
      "execution_count": 0,
      "outputs": []
    },
    {
      "cell_type": "markdown",
      "metadata": {
        "deletable": false,
        "editable": false,
        "nbgrader": {
          "checksum": "734ba0669bdc3873fb75b67ef74cc737",
          "grade": false,
          "grade_id": "cell-c35210aa72f0c989",
          "locked": true,
          "schema_version": 1,
          "solution": false
        },
        "id": "IrQTcrvkCSYJ",
        "colab_type": "text"
      },
      "source": [
        "Why did you choose the features you did?"
      ]
    },
    {
      "cell_type": "code",
      "metadata": {
        "deletable": false,
        "nbgrader": {
          "checksum": "c1ba64004225b01d4be0f1704699b9b5",
          "grade": false,
          "grade_id": "cell-11725eab2a5dc436",
          "locked": false,
          "schema_version": 1,
          "solution": true
        },
        "id": "nvlYGshkCSYJ",
        "colab_type": "code",
        "colab": {}
      },
      "source": [
        "## Save your reasoning in a string to the variable ranking_reason\n",
        "\n",
        "# YOUR CODE HERE\n",
        "raise NotImplementedError()"
      ],
      "execution_count": 0,
      "outputs": []
    },
    {
      "cell_type": "code",
      "metadata": {
        "deletable": false,
        "editable": false,
        "nbgrader": {
          "checksum": "600826aef884a21a0e2ef24b5dd1e3c3",
          "grade": true,
          "grade_id": "cell-8b0e41f067c8ef32",
          "locked": true,
          "points": 20,
          "schema_version": 1,
          "solution": false
        },
        "id": "RPVCaGCZCSYM",
        "colab_type": "code",
        "colab": {}
      },
      "source": [
        "assert isinstance(ranking_reason, str)\n",
        "assert len(ranking_reason) > 20"
      ],
      "execution_count": 0,
      "outputs": []
    },
    {
      "cell_type": "code",
      "metadata": {
        "deletable": false,
        "nbgrader": {
          "checksum": "22a9f7d3af3e8f17a19ba1d79448f564",
          "grade": false,
          "grade_id": "cell-d9d5cf91c533af77",
          "locked": false,
          "schema_version": 1,
          "solution": true
        },
        "id": "G10L43eVCSYO",
        "colab_type": "code",
        "colab": {}
      },
      "source": [
        "# Perform a train and test split on the data with the variable names:\n",
        "# rank_x_train for the training features\n",
        "# rank_x_test for the testing features\n",
        "# rank_y_train for the training targets\n",
        "# rank_y_test for the testing targets\n",
        "# The test dataset should be 20% of the total dataset\n",
        "\n",
        "# YOUR CODE HERE\n",
        "raise NotImplementedError()"
      ],
      "execution_count": 0,
      "outputs": []
    },
    {
      "cell_type": "code",
      "metadata": {
        "deletable": false,
        "editable": false,
        "nbgrader": {
          "checksum": "9ebee3fe21ac0f9d65714b1e2df1ba26",
          "grade": true,
          "grade_id": "cell-146c7b1df2f26d90",
          "locked": true,
          "points": 10,
          "schema_version": 1,
          "solution": false
        },
        "id": "GJoM46qXCSYR",
        "colab_type": "code",
        "colab": {}
      },
      "source": [
        "assert (len(rank_x_train) / (len(rank_x_test) + len(rank_x_train))) == 0.8\n",
        "assert (len(rank_y_train) / (len(rank_y_test) + len(rank_y_train))) == 0.8\n",
        "assert len(rank_x_train) == len(rank_y_train)\n",
        "assert len(rank_x_test) == len(rank_y_test)"
      ],
      "execution_count": 0,
      "outputs": []
    },
    {
      "cell_type": "code",
      "metadata": {
        "deletable": false,
        "nbgrader": {
          "checksum": "66972422e6ee5c508599b44ea17916ca",
          "grade": true,
          "grade_id": "cell-99742e48e538f29a",
          "locked": false,
          "points": 50,
          "schema_version": 1,
          "solution": true
        },
        "id": "ZvZ4-2JWCSYX",
        "colab_type": "code",
        "colab": {}
      },
      "source": [
        "# Select models of your choosing, import them and perform a parameter search to train them on each of the targets\n",
        "# Determine an appropriate metric for measuring your performance and report that.\n",
        "\n",
        "# YOUR CODE HERE\n",
        "raise NotImplementedError()\n",
        "\n",
        "# You should have print messages that state something like:\n",
        "# To predict the target (target), I trained a (model) model\n",
        "# and determined the best hyperparameters as (param1 = p1), (param2 = p2)...\n",
        "# resulting in a (metric) score of (score)"
      ],
      "execution_count": 0,
      "outputs": []
    },
    {
      "cell_type": "markdown",
      "metadata": {
        "deletable": false,
        "editable": false,
        "nbgrader": {
          "checksum": "85a0d831b7159d48d142944acc43ad3e",
          "grade": false,
          "grade_id": "cell-be0de61adb8d2930",
          "locked": true,
          "schema_version": 1,
          "solution": false
        },
        "id": "dK1jpNSdCSYd",
        "colab_type": "text"
      },
      "source": [
        "Would your feature choice change if HR was going to use your model to directly hire applicants without an interview? **Which features will you select to use in that model?**"
      ]
    },
    {
      "cell_type": "code",
      "metadata": {
        "deletable": false,
        "editable": false,
        "nbgrader": {
          "checksum": "06aae577c3325934b9dd2d521549d716",
          "grade": false,
          "grade_id": "cell-3aaedae380c7db79",
          "locked": true,
          "schema_version": 1,
          "solution": false
        },
        "id": "LyjDrE_ACSYe",
        "colab_type": "code",
        "colab": {}
      },
      "source": [
        "print(\"The available columns are:\")\n",
        "list(df)"
      ],
      "execution_count": 0,
      "outputs": []
    },
    {
      "cell_type": "code",
      "metadata": {
        "deletable": false,
        "nbgrader": {
          "checksum": "256a03be452a3ad9de29b793a22a7c28",
          "grade": false,
          "grade_id": "cell-c4bad209682c7022",
          "locked": false,
          "schema_version": 1,
          "solution": true
        },
        "id": "lV-KxV4DCSYi",
        "colab_type": "code",
        "colab": {}
      },
      "source": [
        "# Enter all the features you want to use in a list and save it to selection_features\n",
        "# These are the features for the model that will directly hire the top applicants\n",
        "# YOUR CODE HERE\n",
        "raise NotImplementedError()"
      ],
      "execution_count": 0,
      "outputs": []
    },
    {
      "cell_type": "markdown",
      "metadata": {
        "deletable": false,
        "editable": false,
        "nbgrader": {
          "checksum": "a6b02cbd6f7418d4619aab8525689ad3",
          "grade": false,
          "grade_id": "cell-b4b87681c2bdc21a",
          "locked": true,
          "schema_version": 1,
          "solution": false
        },
        "id": "QWgQRnh7CSYl",
        "colab_type": "text"
      },
      "source": [
        "Why did you choose the features you did?"
      ]
    },
    {
      "cell_type": "code",
      "metadata": {
        "deletable": false,
        "nbgrader": {
          "checksum": "c3a66cc8fc7852d9ab140f04b60b96fd",
          "grade": false,
          "grade_id": "cell-b95231da655a979d",
          "locked": false,
          "schema_version": 1,
          "solution": true
        },
        "id": "zT2KiGIBCSYn",
        "colab_type": "code",
        "colab": {}
      },
      "source": [
        "## Save your reasoning in a string to the variable selection_reason\n",
        "\n",
        "# YOUR CODE HERE\n",
        "raise NotImplementedError()"
      ],
      "execution_count": 0,
      "outputs": []
    },
    {
      "cell_type": "code",
      "metadata": {
        "deletable": false,
        "editable": false,
        "nbgrader": {
          "checksum": "0d876a0c394a9cab4f2e9432bf738b7f",
          "grade": true,
          "grade_id": "cell-34d2462a6b2f374c",
          "locked": true,
          "points": 20,
          "schema_version": 1,
          "solution": false
        },
        "id": "1WIo9aROCSYr",
        "colab_type": "code",
        "colab": {}
      },
      "source": [
        "assert isinstance(selection_reason, str)\n",
        "assert len(selection_reason) > 20"
      ],
      "execution_count": 0,
      "outputs": []
    },
    {
      "cell_type": "markdown",
      "metadata": {
        "deletable": false,
        "editable": false,
        "nbgrader": {
          "checksum": "6e3af11ace509f21b1938998872c97b6",
          "grade": false,
          "grade_id": "cell-5d3c9cf0fe1dac76",
          "locked": true,
          "schema_version": 1,
          "solution": false
        },
        "id": "mY3LaWFzCSYw",
        "colab_type": "text"
      },
      "source": [
        "Why was your choice different from or the same as the ranking features?\n"
      ]
    },
    {
      "cell_type": "code",
      "metadata": {
        "deletable": false,
        "nbgrader": {
          "checksum": "9c5c99cff4106a3bfd1ace73635e114c",
          "grade": false,
          "grade_id": "cell-4479d690eeb487ad",
          "locked": false,
          "schema_version": 1,
          "solution": true
        },
        "id": "4qhSulr8CSYx",
        "colab_type": "code",
        "colab": {}
      },
      "source": [
        "# Save your reasoning in a string to the variable\n",
        "# same_reason if the features are the same\n",
        "# different_reason if the features are different\n",
        "# YOUR CODE HERE\n",
        "raise NotImplementedError()"
      ],
      "execution_count": 0,
      "outputs": []
    },
    {
      "cell_type": "code",
      "metadata": {
        "deletable": false,
        "editable": false,
        "nbgrader": {
          "checksum": "ca728e671caaab8c76201f0e6a5811d6",
          "grade": true,
          "grade_id": "cell-f875ee0056d6eb98",
          "locked": true,
          "points": 20,
          "schema_version": 1,
          "solution": false
        },
        "id": "pJRmgT8kCSY1",
        "colab_type": "code",
        "colab": {}
      },
      "source": [
        "if all([rf in selection_features for rf in rank_features]) and all([sf in rank_features for sf in selection_features]):\n",
        "    print(\"Your features for ranking and selection are the same.\")\n",
        "    assert isinstance(same_reason, str)\n",
        "    assert len(same_reason) > 20\n",
        "else:\n",
        "    print(\"Your features for ranking and selection are different.\")\n",
        "    assert isinstance(different_reason, str)\n",
        "    assert len(different_reason) > 20"
      ],
      "execution_count": 0,
      "outputs": []
    },
    {
      "cell_type": "code",
      "metadata": {
        "deletable": false,
        "nbgrader": {
          "checksum": "7cee30863e806b81ba8cdc6408e2ab11",
          "grade": false,
          "grade_id": "cell-fe98928b7423b02b",
          "locked": false,
          "schema_version": 1,
          "solution": true
        },
        "id": "EDni7cgCCSY6",
        "colab_type": "code",
        "colab": {}
      },
      "source": [
        "# Perform a train and test split on the data with the variable names:\n",
        "# selection_x_train for the training features\n",
        "# selection_x_test for the testing features\n",
        "# selection_y_train for the training targets\n",
        "# selection_y_test for the testing targets\n",
        "# The test dataset should be 20% of the total dataset\n",
        "\n",
        "# YOUR CODE HERE\n",
        "raise NotImplementedError()"
      ],
      "execution_count": 0,
      "outputs": []
    },
    {
      "cell_type": "code",
      "metadata": {
        "deletable": false,
        "editable": false,
        "nbgrader": {
          "checksum": "2744e59c5f90eed2d6cadcacaa17c275",
          "grade": true,
          "grade_id": "cell-be29120b1249cd74",
          "locked": true,
          "points": 10,
          "schema_version": 1,
          "solution": false
        },
        "id": "BGwq0NQUCSY_",
        "colab_type": "code",
        "colab": {}
      },
      "source": [
        "assert (len(selection_x_train) / (len(selection_x_test) + len(selection_x_train))) == 0.8\n",
        "assert (len(selection_y_train) / (len(selection_y_test) + len(selection_y_train))) == 0.8\n",
        "assert len(selection_x_train) == len(selection_y_train)\n",
        "assert len(selection_x_test) == len(selection_y_test)"
      ],
      "execution_count": 0,
      "outputs": []
    },
    {
      "cell_type": "markdown",
      "metadata": {
        "deletable": false,
        "editable": false,
        "nbgrader": {
          "checksum": "64d98f4aead8beecad6d5fea0ec538e9",
          "grade": false,
          "grade_id": "cell-3ae20ccdd5d080b7",
          "locked": true,
          "schema_version": 1,
          "solution": false
        },
        "id": "3_LJE22uCSZD",
        "colab_type": "text"
      },
      "source": [
        "Now let's see if the model performs differently."
      ]
    },
    {
      "cell_type": "code",
      "metadata": {
        "deletable": false,
        "nbgrader": {
          "checksum": "26db92419fa8391e2fc320e109fa44d9",
          "grade": true,
          "grade_id": "cell-43f1427eb940e017",
          "locked": false,
          "points": 30,
          "schema_version": 1,
          "solution": true
        },
        "id": "8PopCDLwCSZE",
        "colab_type": "code",
        "colab": {}
      },
      "source": [
        "# Select models of your choosing, import them and perform a parameter search to train them on each of the targets\n",
        "# Determine an appropriate metric for measuring your performance and report that.\n",
        "\n",
        "# YOUR CODE HERE\n",
        "raise NotImplementedError()\n",
        "\n",
        "# You should have print messages that state something like:\n",
        "# To predict the target (target), I trained a (model) model\n",
        "# and determined the best hyperparameters as (param1 = p1), (param2 = p2)...\n",
        "# resulting in a (metric) score of (score)"
      ],
      "execution_count": 0,
      "outputs": []
    },
    {
      "cell_type": "code",
      "metadata": {
        "deletable": false,
        "nbgrader": {
          "checksum": "c3ebd1bd1152d40a72177a5b9ff15be2",
          "grade": true,
          "grade_id": "cell-5df6d98d3b874670",
          "locked": false,
          "points": 20,
          "schema_version": 1,
          "solution": true
        },
        "id": "bCcuZ4CJCSZH",
        "colab_type": "code",
        "colab": {}
      },
      "source": [
        "# Follow this up with a comparison between the performance on your 2 models using the different features.\n",
        "# You should print something like\n",
        "# Using rank features for target (target) the model scored (score)\n",
        "# versus using the selection features where it scored (score)\n",
        "# YOUR CODE HERE\n",
        "raise NotImplementedError()\n"
      ],
      "execution_count": 0,
      "outputs": []
    },
    {
      "cell_type": "markdown",
      "metadata": {
        "deletable": false,
        "editable": false,
        "nbgrader": {
          "checksum": "03dcba3c87298cd428ec01f9a0075d6c",
          "grade": false,
          "grade_id": "cell-4a3caccc18c17350",
          "locked": true,
          "schema_version": 1,
          "solution": false
        },
        "id": "qE7rkjwTCSZM",
        "colab_type": "text"
      },
      "source": [
        "## Feedback"
      ]
    },
    {
      "cell_type": "code",
      "metadata": {
        "deletable": false,
        "nbgrader": {
          "checksum": "687d8bbd0750d67bdc439a0a539f4563",
          "grade": false,
          "grade_id": "cell-259e62fb9f936804",
          "locked": false,
          "schema_version": 1,
          "solution": true
        },
        "id": "GSmRHxQVCSZN",
        "colab_type": "code",
        "colab": {}
      },
      "source": [
        "def feedback():\n",
        "    \"\"\"Provide feedback on the contents of this exercise\n",
        "    \n",
        "    Returns:\n",
        "        string\n",
        "    \"\"\"\n",
        "    # YOUR CODE HERE\n",
        "    raise NotImplementedError()"
      ],
      "execution_count": 0,
      "outputs": []
    },
    {
      "cell_type": "code",
      "metadata": {
        "deletable": false,
        "editable": false,
        "nbgrader": {
          "checksum": "a981d530666ab499761c90062b408a01",
          "grade": true,
          "grade_id": "cell-865e5f961cfd020f",
          "locked": true,
          "points": 0,
          "schema_version": 1,
          "solution": false
        },
        "id": "2-i1oyNOCSZV",
        "colab_type": "code",
        "colab": {}
      },
      "source": [
        ""
      ],
      "execution_count": 0,
      "outputs": []
    }
  ]
}